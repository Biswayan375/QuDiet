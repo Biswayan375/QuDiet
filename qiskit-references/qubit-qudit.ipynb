{
 "cells": [
  {
   "cell_type": "code",
   "execution_count": 2,
   "outputs": [],
   "source": [
    "import math\n",
    "import scipy\n",
    "import numpy\n",
    "import dask\n",
    "import functools\n",
    "import re\n",
    "from collections import OrderedDict, defaultdict, namedtuple\n",
    "from typing import (\n",
    "    Union,\n",
    "    Optional,\n",
    "    List,\n",
    "    Dict,\n",
    "    Tuple,\n",
    "    Type,\n",
    "    TypeVar,\n",
    "    Sequence,\n",
    "    Callable,\n",
    "    Mapping,\n",
    "    Set,\n",
    "    Iterable,\n",
    ")\n",
    "import typing"
   ],
   "metadata": {
    "collapsed": false,
    "pycharm": {
     "name": "#%%\n"
    }
   }
  },
  {
   "cell_type": "code",
   "execution_count": null,
   "outputs": [],
   "source": [
    "class QuantumCircuit():\n"
   ],
   "metadata": {
    "collapsed": false,
    "pycharm": {
     "name": "#%%\n"
    }
   }
  }
 ],
 "metadata": {
  "kernelspec": {
   "display_name": "Python 3",
   "language": "python",
   "name": "python3"
  },
  "language_info": {
   "codemirror_mode": {
    "name": "ipython",
    "version": 2
   },
   "file_extension": ".py",
   "mimetype": "text/x-python",
   "name": "python",
   "nbconvert_exporter": "python",
   "pygments_lexer": "ipython2",
   "version": "2.7.6"
  }
 },
 "nbformat": 4,
 "nbformat_minor": 0
}