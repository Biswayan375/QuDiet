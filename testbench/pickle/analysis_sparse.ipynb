{
 "cells": [
  {
   "cell_type": "code",
   "execution_count": 1,
   "metadata": {},
   "outputs": [],
   "source": [
    "import os\n",
    "import pandas as pd\n",
    "import pickle"
   ]
  },
  {
   "cell_type": "code",
   "execution_count": 2,
   "metadata": {},
   "outputs": [
    {
     "data": {
      "text/plain": [
       "['4gt11_82_tof-sparse-backend.pkl',\n",
       " 'aj-e11_165_tof-sparse-backend.pkl',\n",
       " '4_49_17_tof-sparse-backend.pkl',\n",
       " 'toffoli_2_tof-sparse-backend.pkl',\n",
       " 'decod24-v0_38_tof-sparse-backend.pkl',\n",
       " 'decod24-enable_125_tof-sparse-backend.pkl',\n",
       " '4_49_16_tof-sparse-backend.pkl',\n",
       " '4mod5-v0_18_tof-sparse-backend.pkl',\n",
       " '4gt4-v0_72_tof-sparse-backend.pkl',\n",
       " 'rd32_270_tof-sparse-backend.pkl',\n",
       " '4mod5-bdd_287_tof-sparse-backend.pkl',\n",
       " 'mod5mils_65_tof-sparse-backend.pkl',\n",
       " 'ex-1_166_tof-sparse-backend.pkl',\n",
       " 'decod24-bdd_294_tof-sparse-backend.pkl',\n",
       " '4gt5_76_tof-sparse-backend.pkl',\n",
       " 'alu-bdd_288_tof-sparse-backend.pkl',\n",
       " '3_17_13_tof-sparse-backend.pkl',\n",
       " 'mod5d1_63_tof-sparse-backend.pkl',\n",
       " '3_17_14_tof-sparse-backend.pkl',\n",
       " 'miller_11_tof-sparse-backend.pkl',\n",
       " 'alu-v0_26_tof-sparse-backend.pkl']"
      ]
     },
     "execution_count": 2,
     "metadata": {},
     "output_type": "execute_result"
    }
   ],
   "source": [
    "files = os.listdir('sparse')\n",
    "files"
   ]
  },
  {
   "cell_type": "code",
   "execution_count": 3,
   "metadata": {},
   "outputs": [
    {
     "name": "stdout",
     "output_type": "stream",
     "text": [
      "sparse\n",
      "[]\n",
      "['4gt11_82_tof-sparse-backend.pkl', 'aj-e11_165_tof-sparse-backend.pkl', '4_49_17_tof-sparse-backend.pkl', 'toffoli_2_tof-sparse-backend.pkl', 'decod24-v0_38_tof-sparse-backend.pkl', 'decod24-enable_125_tof-sparse-backend.pkl', '4_49_16_tof-sparse-backend.pkl', '4mod5-v0_18_tof-sparse-backend.pkl', '4gt4-v0_72_tof-sparse-backend.pkl', 'rd32_270_tof-sparse-backend.pkl', '4mod5-bdd_287_tof-sparse-backend.pkl', 'mod5mils_65_tof-sparse-backend.pkl', 'ex-1_166_tof-sparse-backend.pkl', 'decod24-bdd_294_tof-sparse-backend.pkl', '4gt5_76_tof-sparse-backend.pkl', 'alu-bdd_288_tof-sparse-backend.pkl', '3_17_13_tof-sparse-backend.pkl', 'mod5d1_63_tof-sparse-backend.pkl', '3_17_14_tof-sparse-backend.pkl', 'miller_11_tof-sparse-backend.pkl', 'alu-v0_26_tof-sparse-backend.pkl']\n"
     ]
    }
   ],
   "source": [
    "allcontacts = [] # Creates an empty list\n",
    "for root, dirs, files in os.walk(\"sparse\"):\n",
    "    print(root)\n",
    "    print(dirs)\n",
    "    print(files)"
   ]
  },
  {
   "cell_type": "code",
   "execution_count": 4,
   "metadata": {},
   "outputs": [
    {
     "data": {
      "text/plain": [
       "['4gt11_82_tof-sparse-backend.pkl',\n",
       " 'aj-e11_165_tof-sparse-backend.pkl',\n",
       " '4_49_17_tof-sparse-backend.pkl',\n",
       " 'toffoli_2_tof-sparse-backend.pkl',\n",
       " 'decod24-v0_38_tof-sparse-backend.pkl',\n",
       " 'decod24-enable_125_tof-sparse-backend.pkl',\n",
       " '4_49_16_tof-sparse-backend.pkl',\n",
       " '4mod5-v0_18_tof-sparse-backend.pkl',\n",
       " '4gt4-v0_72_tof-sparse-backend.pkl',\n",
       " 'rd32_270_tof-sparse-backend.pkl',\n",
       " '4mod5-bdd_287_tof-sparse-backend.pkl',\n",
       " 'mod5mils_65_tof-sparse-backend.pkl',\n",
       " 'ex-1_166_tof-sparse-backend.pkl',\n",
       " 'decod24-bdd_294_tof-sparse-backend.pkl',\n",
       " '4gt5_76_tof-sparse-backend.pkl',\n",
       " 'alu-bdd_288_tof-sparse-backend.pkl',\n",
       " '3_17_13_tof-sparse-backend.pkl',\n",
       " 'mod5d1_63_tof-sparse-backend.pkl',\n",
       " '3_17_14_tof-sparse-backend.pkl',\n",
       " 'miller_11_tof-sparse-backend.pkl',\n",
       " 'alu-v0_26_tof-sparse-backend.pkl']"
      ]
     },
     "execution_count": 4,
     "metadata": {},
     "output_type": "execute_result"
    }
   ],
   "source": [
    "files"
   ]
  },
  {
   "cell_type": "code",
   "execution_count": 7,
   "metadata": {},
   "outputs": [],
   "source": [
    "output_list = []\n",
    "for file_str in files:\n",
    "    # open_file = pickle.load(file_str)\n",
    "    # output_list.append(output_list)\n",
    "    with open('sparse/'+file_str, 'rb') as pickle_file:\n",
    "        content = pickle.load(pickle_file)\n",
    "        output_list.append(content)"
   ]
  },
  {
   "cell_type": "code",
   "execution_count": 8,
   "metadata": {},
   "outputs": [
    {
     "data": {
      "text/plain": [
       "[{'value': [{'|00000>': 1.0}],\n",
       "  'loading-time': 0.0014581680297851562,\n",
       "  'execution-time': 0.02694988250732422},\n",
       " {'value': [{'|00010>': 1.0}],\n",
       "  'loading-time': 0.0025315284729003906,\n",
       "  'execution-time': 0.10252189636230469},\n",
       " {'value': [{'|1201>': 1.0}],\n",
       "  'loading-time': 0.0025391578674316406,\n",
       "  'execution-time': 0.04423356056213379},\n",
       " {'value': [{'|000>': 1.0}],\n",
       "  'loading-time': 0.0011937618255615234,\n",
       "  'execution-time': 0.0030624866485595703},\n",
       " {'value': [{'|0001>': 1.0}],\n",
       "  'loading-time': 0.0015091896057128906,\n",
       "  'execution-time': 0.016738176345825195},\n",
       " {'value': [{'|000000>': 1.0}],\n",
       "  'loading-time': 0.0022749900817871094,\n",
       "  'execution-time': 0.06618618965148926},\n",
       " {'value': [{'|00010>': 1.0}],\n",
       "  'loading-time': 0.0023241043090820312,\n",
       "  'execution-time': 0.11934828758239746},\n",
       " {'value': [{'|11020>': 1.0}],\n",
       "  'loading-time': 0.0025055408477783203,\n",
       "  'execution-time': 0.034822702407836914},\n",
       " {'value': [{'|111100>': 1.0}],\n",
       "  'loading-time': 0.0025556087493896484,\n",
       "  'execution-time': 0.12943172454833984},\n",
       " {'value': [{'|11101>': 1.0}],\n",
       "  'loading-time': 0.002183675765991211,\n",
       "  'execution-time': 0.03620314598083496},\n",
       " {'value': [{'|0000001>': 1.0}],\n",
       "  'loading-time': 0.0026106834411621094,\n",
       "  'execution-time': 0.08845686912536621},\n",
       " {'value': [{'|00010>': 1.0}],\n",
       "  'loading-time': 0.0018601417541503906,\n",
       "  'execution-time': 0.01595592498779297},\n",
       " {'value': [{'|100>': 1.0}],\n",
       "  'loading-time': 0.0012102127075195312,\n",
       "  'execution-time': 0.005753993988037109},\n",
       " {'value': [{'|000111>': 1.0}],\n",
       "  'loading-time': 0.0019571781158447266,\n",
       "  'execution-time': 0.052381277084350586},\n",
       " {'value': [{'|00000>': 1.0}],\n",
       "  'loading-time': 0.002311229705810547,\n",
       "  'execution-time': 0.0543365478515625},\n",
       " {'value': [{'|0000001>': 1.0}],\n",
       "  'loading-time': 0.0025920867919921875,\n",
       "  'execution-time': 0.09253454208374023},\n",
       " {'value': [{'|001>': 1.0}],\n",
       "  'loading-time': 0.003330707550048828,\n",
       "  'execution-time': 0.01465606689453125},\n",
       " {'value': [{'|00000>': 1.0}],\n",
       "  'loading-time': 0.0013394355773925781,\n",
       "  'execution-time': 0.017745256423950195},\n",
       " {'value': [{'|001>': 1.0}],\n",
       "  'loading-time': 0.001550436019897461,\n",
       "  'execution-time': 0.00918269157409668},\n",
       " {'value': [{'|000>': 1.0}],\n",
       "  'loading-time': 0.0011546611785888672,\n",
       "  'execution-time': 0.010428428649902344},\n",
       " {'value': [{'|00100>': 1.0}],\n",
       "  'loading-time': 0.0015385150909423828,\n",
       "  'execution-time': 0.06993365287780762}]"
      ]
     },
     "execution_count": 8,
     "metadata": {},
     "output_type": "execute_result"
    }
   ],
   "source": [
    "output_list"
   ]
  },
  {
   "cell_type": "code",
   "execution_count": 9,
   "metadata": {},
   "outputs": [],
   "source": [
    "df = pd.DataFrame(output_list)"
   ]
  },
  {
   "cell_type": "code",
   "execution_count": 10,
   "metadata": {},
   "outputs": [],
   "source": [
    "df['circuit'] = files"
   ]
  },
  {
   "cell_type": "code",
   "execution_count": 11,
   "metadata": {},
   "outputs": [
    {
     "data": {
      "text/html": [
       "<div>\n",
       "<style scoped>\n",
       "    .dataframe tbody tr th:only-of-type {\n",
       "        vertical-align: middle;\n",
       "    }\n",
       "\n",
       "    .dataframe tbody tr th {\n",
       "        vertical-align: top;\n",
       "    }\n",
       "\n",
       "    .dataframe thead th {\n",
       "        text-align: right;\n",
       "    }\n",
       "</style>\n",
       "<table border=\"1\" class=\"dataframe\">\n",
       "  <thead>\n",
       "    <tr style=\"text-align: right;\">\n",
       "      <th></th>\n",
       "      <th>value</th>\n",
       "      <th>loading-time</th>\n",
       "      <th>execution-time</th>\n",
       "      <th>circuit</th>\n",
       "    </tr>\n",
       "  </thead>\n",
       "  <tbody>\n",
       "    <tr>\n",
       "      <th>0</th>\n",
       "      <td>[{'|00000&gt;': 1.0}]</td>\n",
       "      <td>0.001458</td>\n",
       "      <td>0.026950</td>\n",
       "      <td>4gt11_82_tof-sparse-backend.pkl</td>\n",
       "    </tr>\n",
       "    <tr>\n",
       "      <th>1</th>\n",
       "      <td>[{'|00010&gt;': 1.0}]</td>\n",
       "      <td>0.002532</td>\n",
       "      <td>0.102522</td>\n",
       "      <td>aj-e11_165_tof-sparse-backend.pkl</td>\n",
       "    </tr>\n",
       "    <tr>\n",
       "      <th>2</th>\n",
       "      <td>[{'|1201&gt;': 1.0}]</td>\n",
       "      <td>0.002539</td>\n",
       "      <td>0.044234</td>\n",
       "      <td>4_49_17_tof-sparse-backend.pkl</td>\n",
       "    </tr>\n",
       "    <tr>\n",
       "      <th>3</th>\n",
       "      <td>[{'|000&gt;': 1.0}]</td>\n",
       "      <td>0.001194</td>\n",
       "      <td>0.003062</td>\n",
       "      <td>toffoli_2_tof-sparse-backend.pkl</td>\n",
       "    </tr>\n",
       "    <tr>\n",
       "      <th>4</th>\n",
       "      <td>[{'|0001&gt;': 1.0}]</td>\n",
       "      <td>0.001509</td>\n",
       "      <td>0.016738</td>\n",
       "      <td>decod24-v0_38_tof-sparse-backend.pkl</td>\n",
       "    </tr>\n",
       "    <tr>\n",
       "      <th>5</th>\n",
       "      <td>[{'|000000&gt;': 1.0}]</td>\n",
       "      <td>0.002275</td>\n",
       "      <td>0.066186</td>\n",
       "      <td>decod24-enable_125_tof-sparse-backend.pkl</td>\n",
       "    </tr>\n",
       "    <tr>\n",
       "      <th>6</th>\n",
       "      <td>[{'|00010&gt;': 1.0}]</td>\n",
       "      <td>0.002324</td>\n",
       "      <td>0.119348</td>\n",
       "      <td>4_49_16_tof-sparse-backend.pkl</td>\n",
       "    </tr>\n",
       "    <tr>\n",
       "      <th>7</th>\n",
       "      <td>[{'|11020&gt;': 1.0}]</td>\n",
       "      <td>0.002506</td>\n",
       "      <td>0.034823</td>\n",
       "      <td>4mod5-v0_18_tof-sparse-backend.pkl</td>\n",
       "    </tr>\n",
       "    <tr>\n",
       "      <th>8</th>\n",
       "      <td>[{'|111100&gt;': 1.0}]</td>\n",
       "      <td>0.002556</td>\n",
       "      <td>0.129432</td>\n",
       "      <td>4gt4-v0_72_tof-sparse-backend.pkl</td>\n",
       "    </tr>\n",
       "    <tr>\n",
       "      <th>9</th>\n",
       "      <td>[{'|11101&gt;': 1.0}]</td>\n",
       "      <td>0.002184</td>\n",
       "      <td>0.036203</td>\n",
       "      <td>rd32_270_tof-sparse-backend.pkl</td>\n",
       "    </tr>\n",
       "    <tr>\n",
       "      <th>10</th>\n",
       "      <td>[{'|0000001&gt;': 1.0}]</td>\n",
       "      <td>0.002611</td>\n",
       "      <td>0.088457</td>\n",
       "      <td>4mod5-bdd_287_tof-sparse-backend.pkl</td>\n",
       "    </tr>\n",
       "    <tr>\n",
       "      <th>11</th>\n",
       "      <td>[{'|00010&gt;': 1.0}]</td>\n",
       "      <td>0.001860</td>\n",
       "      <td>0.015956</td>\n",
       "      <td>mod5mils_65_tof-sparse-backend.pkl</td>\n",
       "    </tr>\n",
       "    <tr>\n",
       "      <th>12</th>\n",
       "      <td>[{'|100&gt;': 1.0}]</td>\n",
       "      <td>0.001210</td>\n",
       "      <td>0.005754</td>\n",
       "      <td>ex-1_166_tof-sparse-backend.pkl</td>\n",
       "    </tr>\n",
       "    <tr>\n",
       "      <th>13</th>\n",
       "      <td>[{'|000111&gt;': 1.0}]</td>\n",
       "      <td>0.001957</td>\n",
       "      <td>0.052381</td>\n",
       "      <td>decod24-bdd_294_tof-sparse-backend.pkl</td>\n",
       "    </tr>\n",
       "    <tr>\n",
       "      <th>14</th>\n",
       "      <td>[{'|00000&gt;': 1.0}]</td>\n",
       "      <td>0.002311</td>\n",
       "      <td>0.054337</td>\n",
       "      <td>4gt5_76_tof-sparse-backend.pkl</td>\n",
       "    </tr>\n",
       "    <tr>\n",
       "      <th>15</th>\n",
       "      <td>[{'|0000001&gt;': 1.0}]</td>\n",
       "      <td>0.002592</td>\n",
       "      <td>0.092535</td>\n",
       "      <td>alu-bdd_288_tof-sparse-backend.pkl</td>\n",
       "    </tr>\n",
       "    <tr>\n",
       "      <th>16</th>\n",
       "      <td>[{'|001&gt;': 1.0}]</td>\n",
       "      <td>0.003331</td>\n",
       "      <td>0.014656</td>\n",
       "      <td>3_17_13_tof-sparse-backend.pkl</td>\n",
       "    </tr>\n",
       "    <tr>\n",
       "      <th>17</th>\n",
       "      <td>[{'|00000&gt;': 1.0}]</td>\n",
       "      <td>0.001339</td>\n",
       "      <td>0.017745</td>\n",
       "      <td>mod5d1_63_tof-sparse-backend.pkl</td>\n",
       "    </tr>\n",
       "    <tr>\n",
       "      <th>18</th>\n",
       "      <td>[{'|001&gt;': 1.0}]</td>\n",
       "      <td>0.001550</td>\n",
       "      <td>0.009183</td>\n",
       "      <td>3_17_14_tof-sparse-backend.pkl</td>\n",
       "    </tr>\n",
       "    <tr>\n",
       "      <th>19</th>\n",
       "      <td>[{'|000&gt;': 1.0}]</td>\n",
       "      <td>0.001155</td>\n",
       "      <td>0.010428</td>\n",
       "      <td>miller_11_tof-sparse-backend.pkl</td>\n",
       "    </tr>\n",
       "    <tr>\n",
       "      <th>20</th>\n",
       "      <td>[{'|00100&gt;': 1.0}]</td>\n",
       "      <td>0.001539</td>\n",
       "      <td>0.069934</td>\n",
       "      <td>alu-v0_26_tof-sparse-backend.pkl</td>\n",
       "    </tr>\n",
       "  </tbody>\n",
       "</table>\n",
       "</div>"
      ],
      "text/plain": [
       "                   value  loading-time  execution-time  \\\n",
       "0     [{'|00000>': 1.0}]      0.001458        0.026950   \n",
       "1     [{'|00010>': 1.0}]      0.002532        0.102522   \n",
       "2      [{'|1201>': 1.0}]      0.002539        0.044234   \n",
       "3       [{'|000>': 1.0}]      0.001194        0.003062   \n",
       "4      [{'|0001>': 1.0}]      0.001509        0.016738   \n",
       "5    [{'|000000>': 1.0}]      0.002275        0.066186   \n",
       "6     [{'|00010>': 1.0}]      0.002324        0.119348   \n",
       "7     [{'|11020>': 1.0}]      0.002506        0.034823   \n",
       "8    [{'|111100>': 1.0}]      0.002556        0.129432   \n",
       "9     [{'|11101>': 1.0}]      0.002184        0.036203   \n",
       "10  [{'|0000001>': 1.0}]      0.002611        0.088457   \n",
       "11    [{'|00010>': 1.0}]      0.001860        0.015956   \n",
       "12      [{'|100>': 1.0}]      0.001210        0.005754   \n",
       "13   [{'|000111>': 1.0}]      0.001957        0.052381   \n",
       "14    [{'|00000>': 1.0}]      0.002311        0.054337   \n",
       "15  [{'|0000001>': 1.0}]      0.002592        0.092535   \n",
       "16      [{'|001>': 1.0}]      0.003331        0.014656   \n",
       "17    [{'|00000>': 1.0}]      0.001339        0.017745   \n",
       "18      [{'|001>': 1.0}]      0.001550        0.009183   \n",
       "19      [{'|000>': 1.0}]      0.001155        0.010428   \n",
       "20    [{'|00100>': 1.0}]      0.001539        0.069934   \n",
       "\n",
       "                                      circuit  \n",
       "0             4gt11_82_tof-sparse-backend.pkl  \n",
       "1           aj-e11_165_tof-sparse-backend.pkl  \n",
       "2              4_49_17_tof-sparse-backend.pkl  \n",
       "3            toffoli_2_tof-sparse-backend.pkl  \n",
       "4        decod24-v0_38_tof-sparse-backend.pkl  \n",
       "5   decod24-enable_125_tof-sparse-backend.pkl  \n",
       "6              4_49_16_tof-sparse-backend.pkl  \n",
       "7          4mod5-v0_18_tof-sparse-backend.pkl  \n",
       "8           4gt4-v0_72_tof-sparse-backend.pkl  \n",
       "9             rd32_270_tof-sparse-backend.pkl  \n",
       "10       4mod5-bdd_287_tof-sparse-backend.pkl  \n",
       "11         mod5mils_65_tof-sparse-backend.pkl  \n",
       "12            ex-1_166_tof-sparse-backend.pkl  \n",
       "13     decod24-bdd_294_tof-sparse-backend.pkl  \n",
       "14             4gt5_76_tof-sparse-backend.pkl  \n",
       "15         alu-bdd_288_tof-sparse-backend.pkl  \n",
       "16             3_17_13_tof-sparse-backend.pkl  \n",
       "17           mod5d1_63_tof-sparse-backend.pkl  \n",
       "18             3_17_14_tof-sparse-backend.pkl  \n",
       "19           miller_11_tof-sparse-backend.pkl  \n",
       "20           alu-v0_26_tof-sparse-backend.pkl  "
      ]
     },
     "execution_count": 11,
     "metadata": {},
     "output_type": "execute_result"
    }
   ],
   "source": [
    "df"
   ]
  },
  {
   "cell_type": "code",
   "execution_count": 12,
   "metadata": {},
   "outputs": [],
   "source": [
    "cols = df.columns.tolist()"
   ]
  },
  {
   "cell_type": "code",
   "execution_count": 13,
   "metadata": {},
   "outputs": [
    {
     "data": {
      "text/plain": [
       "['value', 'loading-time', 'execution-time', 'circuit']"
      ]
     },
     "execution_count": 13,
     "metadata": {},
     "output_type": "execute_result"
    }
   ],
   "source": [
    "cols"
   ]
  },
  {
   "cell_type": "code",
   "execution_count": 16,
   "metadata": {},
   "outputs": [],
   "source": [
    "cols2 = cols[-1:] + cols[:-1]"
   ]
  },
  {
   "cell_type": "code",
   "execution_count": 17,
   "metadata": {},
   "outputs": [],
   "source": [
    "df = df[cols2]"
   ]
  },
  {
   "cell_type": "code",
   "execution_count": 18,
   "metadata": {},
   "outputs": [],
   "source": [
    "df1 = df.drop(columns='value')"
   ]
  },
  {
   "cell_type": "code",
   "execution_count": 22,
   "metadata": {},
   "outputs": [],
   "source": [
    "df1.to_csv('sparse.csv')"
   ]
  },
  {
   "cell_type": "code",
   "execution_count": null,
   "metadata": {},
   "outputs": [],
   "source": []
  }
 ],
 "metadata": {
  "kernelspec": {
   "display_name": "Python 3.10.4 ('sim')",
   "language": "python",
   "name": "python3"
  },
  "language_info": {
   "codemirror_mode": {
    "name": "ipython",
    "version": 3
   },
   "file_extension": ".py",
   "mimetype": "text/x-python",
   "name": "python",
   "nbconvert_exporter": "python",
   "pygments_lexer": "ipython3",
   "version": "3.10.4"
  },
  "orig_nbformat": 4,
  "vscode": {
   "interpreter": {
    "hash": "9181996d4cb121c17e7dc62e6aa7275125fd275a638a741827f6ccb48977a7d1"
   }
  }
 },
 "nbformat": 4,
 "nbformat_minor": 2
}
